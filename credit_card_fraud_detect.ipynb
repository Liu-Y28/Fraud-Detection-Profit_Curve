{
 "cells": [
  {
   "cell_type": "code",
   "execution_count": 1,
   "metadata": {
    "collapsed": true
   },
   "outputs": [],
   "source": [
    "import matplotlib.pyplot as plt\n",
    "import pandas as pd\n",
    "import numpy as np\n",
    "from sklearn.pipeline import Pipeline\n",
    "from sklearn.preprocessing import StandardScaler\n",
    "#import statsmodels.api as sm\n",
    "#import statsmodels.stats.api as sms\n",
    "#import statsmodels.formula.api as smf\n",
    "#from sklearn.linear_model import LinearRegression\n",
    "#from sklearn.model_selection import train_test_split\n",
    "from sklearn.cross_validation import train_test_split\n",
    "from sklearn.preprocessing import scale\n",
    "#from sklearn.model_selection import cross_val_score\n",
    "from sklearn.cross_validation import cross_val_score\n",
    "import sklearn.metrics\n",
    "from sklearn.linear_model import LogisticRegression\n",
    "from sklearn.ensemble import RandomForestClassifier, GradientBoostingClassifier\n",
    "from sklearn.grid_search import GridSearchCV\n",
    "# from sklearn.model_selection import GridSearchCV\n",
    "from sklearn.metrics import confusion_matrix\n",
    "from sklearn.metrics import recall_score, roc_curve\n",
    "\n",
    "%matplotlib inline"
   ]
  },
  {
   "cell_type": "code",
   "execution_count": 2,
   "metadata": {
    "collapsed": true
   },
   "outputs": [],
   "source": [
    "import sys\n",
    "sys.path.insert(0, './src')\n",
    "\n",
    "import data_clean as dclean"
   ]
  },
  {
   "cell_type": "code",
   "execution_count": 3,
   "metadata": {
    "collapsed": true
   },
   "outputs": [],
   "source": [
    "df_orig = pd.read_csv('data/creditcard.csv')"
   ]
  },
  {
   "cell_type": "code",
   "execution_count": 4,
   "metadata": {},
   "outputs": [
    {
     "data": {
      "text/plain": [
       "(284807, 31)"
      ]
     },
     "execution_count": 4,
     "metadata": {},
     "output_type": "execute_result"
    }
   ],
   "source": [
    "df_orig.shape"
   ]
  },
  {
   "cell_type": "code",
   "execution_count": 5,
   "metadata": {},
   "outputs": [
    {
     "name": "stdout",
     "output_type": "stream",
     "text": [
      "Dataframe total row count:  284807\n",
      "There are 0 columns with nan/null values\n"
     ]
    }
   ],
   "source": [
    "dclean.check_nan(df_orig, df_orig.columns)"
   ]
  },
  {
   "cell_type": "code",
   "execution_count": 6,
   "metadata": {},
   "outputs": [
    {
     "name": "stdout",
     "output_type": "stream",
     "text": [
      "Column Time : 2 rows are 0\n",
      "No 0 values in column V1\n",
      "No 0 values in column V2\n",
      "No 0 values in column V3\n",
      "No 0 values in column V4\n",
      "No 0 values in column V5\n",
      "No 0 values in column V6\n",
      "No 0 values in column V7\n",
      "No 0 values in column V8\n",
      "No 0 values in column V9\n",
      "No 0 values in column V10\n",
      "No 0 values in column V11\n",
      "No 0 values in column V12\n",
      "No 0 values in column V13\n",
      "No 0 values in column V14\n",
      "No 0 values in column V15\n",
      "No 0 values in column V16\n",
      "No 0 values in column V17\n",
      "No 0 values in column V18\n",
      "No 0 values in column V19\n",
      "No 0 values in column V20\n",
      "No 0 values in column V21\n",
      "No 0 values in column V22\n",
      "No 0 values in column V23\n",
      "No 0 values in column V24\n",
      "No 0 values in column V25\n",
      "No 0 values in column V26\n",
      "No 0 values in column V27\n",
      "No 0 values in column V28\n",
      "Column Amount : 1825 rows are 0\n",
      "Column Class : 284315 rows are 0\n"
     ]
    }
   ],
   "source": [
    "for c in df_orig.columns:\n",
    "    dclean.check_zero(df_orig, c)"
   ]
  },
  {
   "cell_type": "markdown",
   "metadata": {},
   "source": [
    "**From the analysis above, we can see that the positive and negative classes are imbalanced**"
   ]
  },
  {
   "cell_type": "code",
   "execution_count": 7,
   "metadata": {},
   "outputs": [
    {
     "name": "stdout",
     "output_type": "stream",
     "text": [
      "Positive class percentage: 0.172748563062%\n"
     ]
    }
   ],
   "source": [
    "print 'Positive class percentage: {}%'.format((1.*sum(df_orig['Class']==1)/df_orig.shape[0])*100)"
   ]
  },
  {
   "cell_type": "code",
   "execution_count": 8,
   "metadata": {
    "collapsed": true
   },
   "outputs": [],
   "source": [
    "X = df_orig[df_orig.drop('Class', axis =1).columns]\n",
    "y = df_orig['Class']"
   ]
  },
  {
   "cell_type": "code",
   "execution_count": 9,
   "metadata": {
    "collapsed": true
   },
   "outputs": [],
   "source": [
    "# Untreated original imbalanced data\n",
    "X_train, X_test, y_train, y_test = train_test_split(X, y)"
   ]
  },
  {
   "cell_type": "markdown",
   "metadata": {},
   "source": [
    "**Use GridSearch to see which C and penalty for LogisticRegression are the best**"
   ]
  },
  {
   "cell_type": "code",
   "execution_count": 81,
   "metadata": {
    "collapsed": true
   },
   "outputs": [],
   "source": [
    "# gridsearch.get_params().keys()"
   ]
  },
  {
   "cell_type": "code",
   "execution_count": 113,
   "metadata": {
    "collapsed": true
   },
   "outputs": [],
   "source": [
    "scaler = ('scaler', StandardScaler())\n",
    "model = ('lrclf', LogisticRegression())\n",
    "\n",
    "steps = [\n",
    "   # feature,\n",
    "    scaler,\n",
    "    model\n",
    "]\n",
    "\n",
    "grid = {'lrclf__C':[0.01,0.1,1],\n",
    "        'lrclf__penalty':['l1','l2']\n",
    "}\n",
    "\n",
    "pipeline = Pipeline(steps)\n",
    "gridsearch = GridSearchCV(pipeline,\n",
    "                         grid)\n",
    "\n",
    "gridsearch.fit(X_train, y_train)\n",
    "best_model = gridsearch.best_estimator_"
   ]
  },
  {
   "cell_type": "code",
   "execution_count": 114,
   "metadata": {},
   "outputs": [
    {
     "name": "stdout",
     "output_type": "stream",
     "text": [
      "best parameters: {'lrclf__C': 1, 'lrclf__penalty': 'l1'}\n"
     ]
    }
   ],
   "source": [
    "print \"best parameters:\", gridsearch.best_params_"
   ]
  },
  {
   "cell_type": "code",
   "execution_count": 115,
   "metadata": {},
   "outputs": [
    {
     "data": {
      "text/plain": [
       "0.66057441253263705"
      ]
     },
     "execution_count": 115,
     "metadata": {},
     "output_type": "execute_result"
    }
   ],
   "source": [
    "y_pred = best_model.predict(X_train)\n",
    "recall_score(y_train, y_pred) "
   ]
  },
  {
   "cell_type": "markdown",
   "metadata": {},
   "source": [
    "**The result is pretty bad using original imbalanced data**"
   ]
  },
  {
   "cell_type": "markdown",
   "metadata": {},
   "source": [
    "**Now try undersample treatment on negative class**"
   ]
  },
  {
   "cell_type": "code",
   "execution_count": 10,
   "metadata": {
    "collapsed": true
   },
   "outputs": [],
   "source": [
    "X_undersample, y_undersample = dclean.undersample(X, y)"
   ]
  },
  {
   "cell_type": "code",
   "execution_count": 11,
   "metadata": {},
   "outputs": [
    {
     "name": "stdout",
     "output_type": "stream",
     "text": [
      "Positive class percentage: 49.4472361809%\n"
     ]
    }
   ],
   "source": [
    "print 'Positive class percentage: {}%'.format((1.*sum(y_undersample==1)/len(y_undersample))*100)"
   ]
  },
  {
   "cell_type": "code",
   "execution_count": 12,
   "metadata": {
    "collapsed": true
   },
   "outputs": [],
   "source": [
    "X_train_us, X_test_us, y_train_us, y_test_us = train_test_split(X_undersample, y_undersample)"
   ]
  },
  {
   "cell_type": "code",
   "execution_count": 13,
   "metadata": {
    "collapsed": true
   },
   "outputs": [],
   "source": [
    "scaler = ('scaler', StandardScaler())\n",
    "model = ('lrclf', LogisticRegression())\n",
    "\n",
    "steps = [\n",
    "   # feature,\n",
    "    scaler,\n",
    "    model\n",
    "]\n",
    "\n",
    "grid = {'lrclf__C':[0.01,0.1,1,10,100],\n",
    "        'lrclf__penalty':['l1','l2']\n",
    "}\n",
    "\n",
    "pipeline = Pipeline(steps)\n",
    "gridsearch = GridSearchCV(pipeline,\n",
    "                         grid,\n",
    "                         scoring='recall')\n",
    "\n",
    "gridsearch.fit(X_train_us, y_train_us)\n",
    "best_model = gridsearch.best_estimator_"
   ]
  },
  {
   "cell_type": "code",
   "execution_count": 16,
   "metadata": {},
   "outputs": [
    {
     "name": "stdout",
     "output_type": "stream",
     "text": [
      "best parameters: {'lrclf__C': 100, 'lrclf__penalty': 'l2'}\n"
     ]
    }
   ],
   "source": [
    "print \"best parameters:\", gridsearch.best_params_"
   ]
  },
  {
   "cell_type": "code",
   "execution_count": 17,
   "metadata": {},
   "outputs": [
    {
     "data": {
      "text/plain": [
       "0.92934782608695654"
      ]
     },
     "execution_count": 17,
     "metadata": {},
     "output_type": "execute_result"
    }
   ],
   "source": [
    "y_pred = best_model.predict(X_train)\n",
    "recall_score(y_train, y_pred) "
   ]
  },
  {
   "cell_type": "markdown",
   "metadata": {},
   "source": [
    "**After undersample treatment, CV result improved a lot**"
   ]
  },
  {
   "cell_type": "markdown",
   "metadata": {},
   "source": [
    "**Try tree-based model**"
   ]
  },
  {
   "cell_type": "code",
   "execution_count": 61,
   "metadata": {},
   "outputs": [
    {
     "name": "stdout",
     "output_type": "stream",
     "text": [
      "Fitting 3 folds for each of 72 candidates, totalling 216 fits\n"
     ]
    },
    {
     "name": "stderr",
     "output_type": "stream",
     "text": [
      "[Parallel(n_jobs=-1)]: Done  42 tasks      | elapsed:    7.2s\n",
      "[Parallel(n_jobs=-1)]: Done 192 tasks      | elapsed:   37.2s\n",
      "[Parallel(n_jobs=-1)]: Done 216 out of 216 | elapsed:   46.6s finished\n"
     ]
    }
   ],
   "source": [
    "# Grid Search CV for Random Forest\n",
    "scaler = ('scaler', StandardScaler())\n",
    "model = ('rfclf', RandomForestClassifier())\n",
    "\n",
    "steps = [\n",
    "   # feature,\n",
    "    scaler,\n",
    "    model\n",
    "]\n",
    "random_forest_grid = {'rfclf__max_depth': [3, None],\n",
    "                      'rfclf__max_features': ['sqrt', 'log2', None],\n",
    "                      'rfclf__min_samples_split': [2, 4],\n",
    "                      'rfclf__min_samples_leaf': [1, 2, 4],\n",
    "                      'rfclf__bootstrap': [True, False],\n",
    "                      'rfclf__n_estimators': [100],\n",
    "                      'rfclf__random_state': [1]}\n",
    "\n",
    "pipeline = Pipeline(steps)\n",
    "gridsearch = GridSearchCV(pipeline,\n",
    "                         random_forest_grid,\n",
    "                         n_jobs=-1,\n",
    "                         verbose=True,\n",
    "                         scoring='recall')\n",
    "\n",
    "gridsearch.fit(X_train_us, y_train_us)\n",
    "best_rf_model = gridsearch.best_estimator_"
   ]
  },
  {
   "cell_type": "code",
   "execution_count": 62,
   "metadata": {},
   "outputs": [
    {
     "data": {
      "text/plain": [
       "0.94240837696335078"
      ]
     },
     "execution_count": 62,
     "metadata": {},
     "output_type": "execute_result"
    }
   ],
   "source": [
    "y_pred = best_rf_model.predict(X_train)\n",
    "recall_score(y_train, y_pred)"
   ]
  },
  {
   "cell_type": "markdown",
   "metadata": {},
   "source": [
    "**Plot the Confusion Matrix**"
   ]
  },
  {
   "cell_type": "code",
   "execution_count": 14,
   "metadata": {
    "collapsed": true
   },
   "outputs": [],
   "source": [
    "import itertools\n",
    "def plot_confusion_matrix(cm, classes,\n",
    "                          normalize=False,\n",
    "                          title='Confusion matrix',\n",
    "                          cmap=plt.cm.Blues):\n",
    "    \"\"\"\n",
    "    This function prints and plots the confusion matrix.\n",
    "    Normalization can be applied by setting `normalize=True`.\n",
    "    \"\"\"\n",
    "    if normalize:\n",
    "        cm = cm.astype('float') / cm.sum(axis=1)[:, np.newaxis]\n",
    "        print(\"Normalized confusion matrix\")\n",
    "    else:\n",
    "        print('Confusion matrix, without normalization')\n",
    "\n",
    "    print(cm)\n",
    "\n",
    "    plt.imshow(cm, interpolation='nearest', cmap=cmap)\n",
    "    plt.title(title)\n",
    "    plt.colorbar()\n",
    "    tick_marks = np.arange(len(classes))\n",
    "    plt.xticks(tick_marks, classes, rotation=45)\n",
    "    plt.yticks(tick_marks, classes)\n",
    "\n",
    "    fmt = '.2f' if normalize else 'd'\n",
    "    thresh = cm.max() / 2.\n",
    "    for i, j in itertools.product(range(cm.shape[0]), range(cm.shape[1])):\n",
    "        plt.text(j, i, format(cm[i, j], fmt),\n",
    "                 horizontalalignment=\"center\",\n",
    "                 color=\"white\" if cm[i, j] > thresh else \"black\")\n",
    "\n",
    "    plt.tight_layout()\n",
    "    plt.ylabel('True label')\n",
    "    plt.xlabel('Predicted label')"
   ]
  },
  {
   "cell_type": "markdown",
   "metadata": {},
   "source": [
    "**Predict for the test data**"
   ]
  },
  {
   "cell_type": "code",
   "execution_count": 45,
   "metadata": {},
   "outputs": [
    {
     "name": "stdout",
     "output_type": "stream",
     "text": [
      "Confusion matrix, without normalization\n",
      "[[67083  4009]\n",
      " [    6   104]]\n"
     ]
    },
    {
     "data": {
      "image/png": "[encoded data removed]",
      "text/plain": [
       "<matplotlib.figure.Figure at 0x1a13c7d790>"
      ]
     },
     "metadata": {},
     "output_type": "display_data"
    }
   ],
   "source": [
    "y_pred = best_model.predict(X_test)\n",
    "cnf_matrix = confusion_matrix(y_test, y_pred)\n",
    "plot_confusion_matrix(cnf_matrix\n",
    "                      , classes=[0,1]\n",
    "                      , title='Confusion matrix')\n",
    "plt.show()"
   ]
  },
  {
   "cell_type": "code",
   "execution_count": 46,
   "metadata": {},
   "outputs": [
    {
     "data": {
      "text/plain": [
       "0.94545454545454544"
      ]
     },
     "execution_count": 46,
     "metadata": {},
     "output_type": "execute_result"
    }
   ],
   "source": [
    "recall_score(y_test, y_pred)"
   ]
  },
  {
   "cell_type": "code",
   "execution_count": 43,
   "metadata": {},
   "outputs": [
    {
     "name": "stdout",
     "output_type": "stream",
     "text": [
      "Confusion matrix, without normalization\n",
      "[[68914  2178]\n",
      " [    6   104]]\n"
     ]
    },
    {
     "data": {
      "image/png": "[encoded data removed]",
      "text/plain": [
       "<matplotlib.figure.Figure at 0x1a12b239d0>"
      ]
     },
     "metadata": {},
     "output_type": "display_data"
    }
   ],
   "source": [
    "y_pred = best_rf_model.predict(X_test)\n",
    "cnf_matrix = confusion_matrix(y_test, y_pred)\n",
    "plot_confusion_matrix(cnf_matrix\n",
    "                      , classes=[0,1]\n",
    "                      , title='Confusion matrix')\n",
    "plt.show()"
   ]
  },
  {
   "cell_type": "code",
   "execution_count": 44,
   "metadata": {},
   "outputs": [
    {
     "data": {
      "text/plain": [
       "0.94545454545454544"
      ]
     },
     "execution_count": 44,
     "metadata": {},
     "output_type": "execute_result"
    }
   ],
   "source": [
    "recall_score(y_test, y_pred)"
   ]
  },
  {
   "cell_type": "markdown",
   "metadata": {},
   "source": [
    "Plotting the ROC curve"
   ]
  },
  {
   "cell_type": "code",
   "execution_count": 49,
   "metadata": {},
   "outputs": [
    {
     "data": {
      "text/plain": [
       "<matplotlib.legend.Legend at 0x1a10b07c90>"
      ]
     },
     "execution_count": 49,
     "metadata": {},
     "output_type": "execute_result"
    },
    {
     "data": {
      "image/png": "[encoded data removed]",
      "text/plain": [
       "<matplotlib.figure.Figure at 0x1a13204710>"
      ]
     },
     "metadata": {},
     "output_type": "display_data"
    }
   ],
   "source": [
    "y_pred_prob = best_model.predict_proba(X_test)\n",
    "y_pred = y_pred_prob[:,-1]\n",
    "fp, tp, thresholds = roc_curve(y_test, y_pred)\n",
    "plt.plot(fp, tp, label='LogisticRegression')\n",
    "y_pred_prob = best_rf_model.predict_proba(X_test)\n",
    "y_pred = y_pred_prob[:,-1]\n",
    "fp, tp, thresholds = roc_curve(y_test, y_pred)\n",
    "plt.plot(fp, tp, label = 'RandomForest')\n",
    "plt.legend()"
   ]
  },
  {
   "cell_type": "markdown",
   "metadata": {},
   "source": [
    "## Apply cost-benefit matrix and plot profit curve"
   ]
  },
  {
   "cell_type": "code",
   "execution_count": 40,
   "metadata": {
    "collapsed": true
   },
   "outputs": [],
   "source": [
    "df_costM = pd.DataFrame({'Pred T':['$1998','$-2'],'Pred N':['$0','$0']}, index=['Actual T','Actual N'])[['Pred T','Pred N']]"
   ]
  },
  {
   "cell_type": "markdown",
   "metadata": {},
   "source": [
    "If we set a correctly detected fraud transaction will save the company \\$2000, and for each detected \"fraud\" transaction we reach out to the customer which costs $2 each time. We'll have the cost matrix below: "
   ]
  },
  {
   "cell_type": "code",
   "execution_count": 41,
   "metadata": {},
   "outputs": [
    {
     "data": {
      "text/html": [
       "<div>\n",
       "<table border=\"1\" class=\"dataframe\">\n",
       "  <thead>\n",
       "    <tr style=\"text-align: right;\">\n",
       "      <th></th>\n",
       "      <th>Pred T</th>\n",
       "      <th>Pred N</th>\n",
       "    </tr>\n",
       "  </thead>\n",
       "  <tbody>\n",
       "    <tr>\n",
       "      <th>Actual T</th>\n",
       "      <td>$1998</td>\n",
       "      <td>$0</td>\n",
       "    </tr>\n",
       "    <tr>\n",
       "      <th>Actual N</th>\n",
       "      <td>$-2</td>\n",
       "      <td>$0</td>\n",
       "    </tr>\n",
       "  </tbody>\n",
       "</table>\n",
       "</div>"
      ],
      "text/plain": [
       "         Pred T Pred N\n",
       "Actual T  $1998     $0\n",
       "Actual N    $-2     $0"
      ]
     },
     "execution_count": 41,
     "metadata": {},
     "output_type": "execute_result"
    }
   ],
   "source": [
    "df_costM"
   ]
  },
  {
   "cell_type": "code",
   "execution_count": 53,
   "metadata": {
    "collapsed": true
   },
   "outputs": [],
   "source": [
    "def profit_curve(cost_bene, label, y_pred_prob):\n",
    "    '''Function to calculate list of profits based on supplied cost-benefit\n",
    "    matrix and prediced probabilities of data points and thier true labels.\n",
    "    cost_bene  : ndarray - 2D, with profit values corresponding to:\n",
    "                                          -----------\n",
    "                                          | TP | FP |\n",
    "                                          -----------\n",
    "                                          | FN | TN |\n",
    "                                          -----------\n",
    "    label      : ndarray - 1D, true label of datapoints, 0 or 1\n",
    "    y_pred_prob : ndarray - 1D, predicted probability for each datapoint\n",
    "                                    in labels, in range [0, 1]\n",
    "    thresholds  : list of float, range [0,1]\n",
    "    '''\n",
    "    # sort the predicted probs indice descending order if use all sorted threshold to calculate each profit\n",
    "    # But dues to large data amount, I'm using np.linspace(1, 0.0, 500) to simulate the trend\n",
    "    #idx = np.argsort(y_pred_prob)[::-1]\n",
    "    #y_pred_sorted = y_pred_prob[idx]\n",
    "    #label_sorted = label[idx]\n",
    "    cum_prof = []\n",
    "    for t in np.linspace(1, np.min(y_pred_prob), 500):\n",
    "        y_pred = y_pred_prob >= t\n",
    "        #y_true = label_sorted\n",
    "        tp, fp, fn, tn = sum(y_pred & label), sum(y_pred & (label==0)), sum((y_pred==0) & label), sum((y_pred==0) & (label==0))\n",
    "        #print tp, fp, fn, tn\n",
    "        prof = 1.*(cost_bene[0][0]*tp + cost_bene[0][1]*fp + cost_bene[1][0]*fn + cost_bene[1][1]*tn)/len(label)\n",
    "        #print prof\n",
    "        cum_prof.append(prof)\n",
    "    return cum_prof"
   ]
  },
  {
   "cell_type": "code",
   "execution_count": 56,
   "metadata": {},
   "outputs": [
    {
     "data": {
      "image/png": "[encoded data removed]",
      "text/plain": [
       "<matplotlib.figure.Figure at 0x1a13cde810>"
      ]
     },
     "metadata": {},
     "output_type": "display_data"
    }
   ],
   "source": [
    "y_pred_prob = best_model.predict_proba(X_test)\n",
    "y_pred = y_pred_prob[:,-1]\n",
    "profs = profit_curve(np.array([[1998, -2],[0, 0]]), y_test.values, y_pred)\n",
    "plt.plot(np.arange(0, 100, 100. / len(profs)), profs, label='LogisticRegression')\n",
    "\n",
    "y_pred_prob = best_rf_model.predict_proba(X_test)\n",
    "y_pred = y_pred_prob[:,-1]\n",
    "profs = profit_curve(np.array([[1998, -2],[0, 0]]), y_test.values, y_pred)\n",
    "plt.plot(np.arange(0, 100, 100. / len(profs)), profs, label='RandomForest')\n",
    "\n",
    "plt.title(\"Profit Curve\")\n",
    "plt.xlabel(\"Percentage of test instances (decreasing by score)\")\n",
    "plt.ylabel(\"Profit\")\n",
    "plt.legend()\n",
    "plt.show()"
   ]
  },
  {
   "cell_type": "markdown",
   "metadata": {},
   "source": [
    "**As the profit curve shows, it's probably best to only target the very top 30 percentage which are\n",
    "detected as \"fraud\" to maximize the profit**"
   ]
  }
 ],
 "metadata": {
  "kernelspec": {
   "display_name": "Python 2",
   "language": "python",
   "name": "python2"
  },
  "language_info": {
   "codemirror_mode": {
    "name": "ipython",
    "version": 2
   },
   "file_extension": ".py",
   "mimetype": "text/x-python",
   "name": "python",
   "nbconvert_exporter": "python",
   "pygments_lexer": "ipython2",
   "version": "2.7.13"
  }
 },
 "nbformat": 4,
 "nbformat_minor": 2
}
